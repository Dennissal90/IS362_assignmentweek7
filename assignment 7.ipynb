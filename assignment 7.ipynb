{
 "cells": [
  {
   "cell_type": "markdown",
   "id": "16961ffc",
   "metadata": {},
   "source": [
    "# Week 7 Assignment"
   ]
  },
  {
   "cell_type": "markdown",
   "id": "b1a179da",
   "metadata": {},
   "source": [
    "## Objective\n",
    "In this assignment, I will analyze movie ratings given by five individuals for six recent popular movies. The goal is to load the ratings data, perform some basic analysis, normalize the ratings, and understand the effects of normalization and standardization on the ratings."
   ]
  },
  {
   "cell_type": "markdown",
   "id": "f2c15c8f",
   "metadata": {},
   "source": [
    "### Step 1: Import Libraries\n",
    "To start, I'll import the necessary libraries that will be used for creating a DataFrame to analyze the content."
   ]
  },
  {
   "cell_type": "code",
   "execution_count": 9,
   "id": "aa6f21f4",
   "metadata": {},
   "outputs": [],
   "source": [
    "import pandas as pd"
   ]
  },
  {
   "cell_type": "markdown",
   "id": "cd53c449",
   "metadata": {},
   "source": [
    "### Step 2: Load the Data\n",
    "I'll load the ratings data from a CSV file into a Pandas DataFrame."
   ]
  },
  {
   "cell_type": "code",
   "execution_count": 16,
   "id": "effefe78",
   "metadata": {},
   "outputs": [
    {
     "name": "stdout",
     "output_type": "stream",
     "text": [
      "            American Sniper  Edge of Tomorrow  Groundhog Day  Jurrassic World  \\\n",
      "0   Kelsey              3.5               2.0            3.0              3.5   \n",
      "1   Andres              4.0               4.5            4.0              4.5   \n",
      "2  Anthony              3.5               4.0            2.0              3.0   \n",
      "3   Daniel              2.0               2.5            1.5              1.0   \n",
      "4  Raymond              4.5               5.0            3.5              2.5   \n",
      "\n",
      "   Lucy  \n",
      "0   4.0  \n",
      "1   3.5  \n",
      "2   4.0  \n",
      "3   2.0  \n",
      "4   4.5  \n"
     ]
    }
   ],
   "source": [
    "file_path = r\"C:\\Users\\The King\\Desktop\\FALL 2024\\IS 362\\ranking.csv\"\n",
    "df_ratings = pd.read_csv(file_path)\n",
    "print(df_ratings)"
   ]
  },
  {
   "cell_type": "markdown",
   "id": "f57d3916",
   "metadata": {},
   "source": [
    "### Step 3: Show Average Ratings\n",
    "Here, I'll calculate the average ratings for each friend (recognized as user) and each movie."
   ]
  },
  {
   "cell_type": "code",
   "execution_count": 29,
   "id": "a83c53ad",
   "metadata": {},
   "outputs": [
    {
     "name": "stdout",
     "output_type": "stream",
     "text": [
      "Kelsey Average Rating: 3.20\n",
      "Andres Average Rating: 4.10\n",
      "Anthony Average Rating: 3.30\n",
      "Daniel Average Rating: 1.80\n",
      "Raymond Average Rating: 4.00\n",
      "American Sniper Average Rating: 3.50\n",
      "Edge of Tomorrow Average Rating: 3.60\n",
      "Groundhog Day Average Rating: 2.80\n",
      "Jurrassic World Average Rating: 2.90\n",
      "Lucy Average Rating: 3.60\n"
     ]
    }
   ],
   "source": [
    "user_names = [\"Kelsey\", \"Andres\", \"Anthony\", \"Daniel\", \"Raymond\"]\n",
    "\n",
    "average_user_ratings = df_ratings.iloc[:, 1:].apply(pd.to_numeric, errors='coerce').mean(axis=1)\n",
    "for name, avg in zip(user_names, average_user_ratings):\n",
    "    print(f\"{name} Average Rating: {avg:.2f}\")\n",
    "\n",
    "average_movie_ratings = df_ratings.iloc[:, 1:].apply(pd.to_numeric, errors='coerce').mean(axis=0)\n",
    "for movie, avg in zip(df_ratings.columns[1:], average_movie_ratings):\n",
    "    print(f\"{movie} Average Rating: {avg:.2f}\")"
   ]
  },
  {
   "cell_type": "markdown",
   "id": "3d344ba3",
   "metadata": {},
   "source": [
    "### Step 4: Normalize the Ratings\n",
    "I'll create a new DataFrame with normalized ratings for each user."
   ]
  },
  {
   "cell_type": "code",
   "execution_count": 27,
   "id": "cddacd70",
   "metadata": {},
   "outputs": [
    {
     "name": "stdout",
     "output_type": "stream",
     "text": [
      "Normalized Ratings:\n",
      "   American Sniper  Edge of Tomorrow  Groundhog Day  Jurrassic World  Lucy\n",
      "0              0.6          0.000000            0.6         0.714286   0.8\n",
      "1              0.8          0.833333            1.0         1.000000   0.6\n",
      "2              0.6          0.666667            0.2         0.571429   0.8\n",
      "3              0.0          0.166667            0.0         0.000000   0.0\n",
      "4              1.0          1.000000            0.8         0.428571   1.0\n",
      "Kelsey Average Normalized Rating: 0.54\n",
      "Andres Average Normalized Rating: 0.85\n",
      "Anthony Average Normalized Rating: 0.57\n",
      "Daniel Average Normalized Rating: 0.03\n",
      "Raymond Average Normalized Rating: 0.85\n",
      "American Sniper Average Normalized Rating: 0.60\n",
      "Edge of Tomorrow Average Normalized Rating: 0.53\n",
      "Groundhog Day Average Normalized Rating: 0.52\n",
      "Jurrassic World Average Normalized Rating: 0.54\n",
      "Lucy Average Normalized Rating: 0.64\n"
     ]
    }
   ],
   "source": [
    "df_numeric_ratings = df_ratings.iloc[:, 1:].apply(pd.to_numeric, errors='coerce')\n",
    "df_normalized = (df_numeric_ratings - df_numeric_ratings.min()) / (df_numeric_ratings.max() - df_numeric_ratings.min())\n",
    "print(\"Normalized Ratings:\")\n",
    "print(df_normalized)\n",
    "\n",
    "average_normalized_user_ratings = df_normalized.mean(axis=1)\n",
    "for name, avg in zip(user_names, average_normalized_user_ratings):\n",
    "    print(f\"{name} Average Normalized Rating: {avg:.2f}\")\n",
    "\n",
    "average_normalized_movie_ratings = df_normalized.mean(axis=0)\n",
    "for movie, avg in zip(df_ratings.columns[1:], average_normalized_movie_ratings):\n",
    "    print(f\"{movie} Average Normalized Rating: {avg:.2f}\")"
   ]
  },
  {
   "cell_type": "markdown",
   "id": "f0f8ba48",
   "metadata": {},
   "source": [
    "### Step 5: Conclusion\n",
    "I'll provide a text-based conclusion explaining the advantages and disadvantages of using normalized ratings instead of the actual ratings."
   ]
  },
  {
   "cell_type": "markdown",
   "id": "17dd3b43",
   "metadata": {},
   "source": [
    "Normalization helps to bring the ratings into a common scale, which can be particularly useful when comparing ratings across different users who may have different rating behaviors. For instance, some users may tend to rate movies higher or lower on average. Normalization reduces this bias by bringing all ratings to a common scale between 0 and 1.\n",
    "\n",
    "However, a potential disadvantage is that normalization might remove meaningful differences between ratings, especially if a user consistently rates certain movies significantly different from others. For example, if a user has a very diverse rating style, the normalization might mask their preference pattern."
   ]
  },
  {
   "cell_type": "markdown",
   "id": "3f6cdcaf",
   "metadata": {},
   "source": [
    "### Step 6: Extra Credit - Standardize the Ratings\n",
    "I'll create another DataFrame with standardized ratings for each user."
   ]
  },
  {
   "cell_type": "code",
   "execution_count": 28,
   "id": "4833cc86",
   "metadata": {},
   "outputs": [
    {
     "name": "stdout",
     "output_type": "stream",
     "text": [
      "Standardized Ratings:\n",
      "   American Sniper  Edge of Tomorrow  Groundhog Day  Jurrassic World      Lucy\n",
      "0         0.000000         -1.236268       0.192897         0.463600  0.415900\n",
      "1         0.534522          0.695401       1.157383         1.236268 -0.103975\n",
      "2         0.000000          0.309067      -0.771589         0.077267  0.415900\n",
      "3        -1.603567         -0.849934      -1.253831        -1.468068 -1.663601\n",
      "4         1.069045          1.081734       0.675140        -0.309067  0.935775\n",
      "Kelsey Average Standardized Rating: -0.03\n",
      "Andres Average Standardized Rating: 0.70\n",
      "Anthony Average Standardized Rating: 0.01\n",
      "Daniel Average Standardized Rating: -1.37\n",
      "Raymond Average Standardized Rating: 0.69\n",
      "American Sniper Average Standardized Rating: 0.00\n",
      "Edge of Tomorrow Average Standardized Rating: -0.00\n",
      "Groundhog Day Average Standardized Rating: 0.00\n",
      "Jurrassic World Average Standardized Rating: 0.00\n",
      "Lucy Average Standardized Rating: -0.00\n"
     ]
    }
   ],
   "source": [
    "df_standardized = (df_numeric_ratings - df_numeric_ratings.mean()) / df_numeric_ratings.std()\n",
    "print(\"Standardized Ratings:\")\n",
    "print(df_standardized)\n",
    "\n",
    "average_standardized_user_ratings = df_standardized.mean(axis=1)\n",
    "for name, avg in zip(user_names, average_standardized_user_ratings):\n",
    "    print(f\"{name} Average Standardized Rating: {avg:.2f}\")\n",
    "\n",
    "average_standardized_movie_ratings = df_standardized.mean(axis=0)\n",
    "for movie, avg in zip(df_ratings.columns[1:], average_standardized_movie_ratings):\n",
    "    print(f\"{movie} Average Standardized Rating: {avg:.2f}\")"
   ]
  },
  {
   "cell_type": "markdown",
   "id": "4a280cfd",
   "metadata": {},
   "source": [
    "## Conclusion\n",
    "This assignment demonstrates the use of Python and Pandas for data manipulation, including loading data, calculating average ratings, and performing normalization and standardization. By applying these techniques, we can better understand user preferences and differences in rating behaviors."
   ]
  }
 ],
 "metadata": {
  "kernelspec": {
   "display_name": "Python 3 (ipykernel)",
   "language": "python",
   "name": "python3"
  },
  "language_info": {
   "codemirror_mode": {
    "name": "ipython",
    "version": 3
   },
   "file_extension": ".py",
   "mimetype": "text/x-python",
   "name": "python",
   "nbconvert_exporter": "python",
   "pygments_lexer": "ipython3",
   "version": "3.11.5"
  }
 },
 "nbformat": 4,
 "nbformat_minor": 5
}
